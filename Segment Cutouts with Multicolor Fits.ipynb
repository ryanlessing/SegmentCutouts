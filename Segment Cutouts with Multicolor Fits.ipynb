{
 "cells": [
  {
   "cell_type": "code",
   "execution_count": 108,
   "outputs": [],
   "source": [
    "import matplotlib.pyplot as plt'\n",
    "import numpy as np'\n",
    "from numpy import nanpercentile as pct'\n",
    "%matplotlib inline'\n",
    "from PIL import Image'\n",
    "from photutils.background import Background2D, MedianBackground'\n",
    "from photutils.segmentation import deblend_sources'\n",
    "from photutils.segmentation import SourceCatalog'\n",
    "from astropy.visualization import simple_norm'\n",
    "from photutils.segmentation import SegmentationImage'\n",
    "from astropy.io import fits'\n",
    "import multicolorfits as mcf'\n",
    "import matplotlib.cm as cm'\n",
    "import pandas as pd'\n",
    "import copy'\n",
    "from tqdm.notebook import tqdm, trange'\n",
    "import os'\n",
   ],
   "metadata": {
    "collapsed": false,
    "pycharm": {
     "name": "#%%\n"
    }
   }
  },
  {
   "cell_type": "markdown",
   "source": [
    "### Load in Convolved+Reprojected Image Arrays & Segmentation Image"
   ],
   "metadata": {
    "collapsed": false,
    "pycharm": {
     "name": "#%%\n"
    }
   }
  },
  {
   "cell_type": "code",
   "execution_count": 2,
   "outputs": [],
   "source": [
    "filters = 'F200W F300M F335M F360M F770W F1000W F1130W F2100W'.split()'\n",
    "im_dict = {}'\n",
    "'\n",
    "dir = '/Users/ryanlessing/Library/CloudStorage/OneDrive-JohnsHopkins/PHANGS/GMC-Photometry/Convolved_Reprojected_to_F2100W/''\n",
    "'\n",
    "for filt in filters:'\n",
    "    fn = dir + filt + '.fits''\n",
    "    im_dict[filt] = fits.open(fn)[0]'\n",
   ],
   "metadata": {
    "collapsed": false,
    "pycharm": {
     "name": "#%%\n"
    }
   }
  },
  {
   "cell_type": "code",
   "execution_count": 3,
   "outputs": [],
   "source": [
    "gmcs = fits.open('/Users/ryanlessing/Library/CloudStorage/OneDrive-JohnsHopkins/PHANGS/GMC-Photometry/GMCcat_ngc0628_12m+7m+tp_co21_native_maxgmc.fits')[0]'\n",
    "gmcs.header['NAXIS'] = 2'\n",
    "del gmcs.header['NAXIS3']'\n",
    "gmc_cat = gmcs.data[0,:,:]'\n",
    "'\n",
    "gmc = SegmentationImage(gmc_cat)'\n",
    "segment_list = gmc.segments'\n",
    "'\n",
    "data = im_dict['F2100W'].data'\n",
    "cat = SourceCatalog(data, gmc)'\n",
    "labels = np.arange(cat.nlabels)'\n",
    "cat_subset = cat.get_labels(labels)  # select a subset of objects'\n",
    "columns = ['label', 'xcentroid', 'ycentroid', 'segment_flux']#,'segment_fluxerr']'\n",
    "tbl = cat_subset.to_table(columns=columns)'\n",
    "tbl['xcentroid'].info.format = '\{:.4f\}'  # optional format'\n",
    "tbl['ycentroid'].info.format = '\{:.4f\}''\n",
    "tbl['segment_flux'].info.format = '\{:.4f\}''\n",
    "'\n",
    "x_pts = list(tbl['xcentroid'])'\n",
    "y_pts = list(tbl['ycentroid'])'\n",
    "'\n",
    "points = np.column_stack([x_pts, y_pts])'\n",
    "'\n",
    "outlines = gmc.outline_segments(mask_background=True)'\n",
    "'\n",
    "gmcmap = gmc.make_cmap(seed=1234)"
   ],
   "metadata": {
    "collapsed": false,
    "pycharm": {
     "name": "#%%\n"
    }
   }
  },
  {
   "cell_type": "markdown",
   "source": [
    "### Segment Outline Function'\n",
    "Adapted from Photutils SegmentationImage.outline_segments'\n",
   ],
   "metadata": {
    "collapsed": false,
    "pycharm": {
     "name": "#%%\n"
    }
   }
  },
  {
   "cell_type": "code",
   "execution_count": 154,
   "outputs": [],
   "source": [
    "def outline_segment(gmc, i, mask_background=False):'\n",
    "        from scipy.ndimage import (generate_binary_structure, grey_dilation, grey_erosion)'\n",
    "'\n",
    "        # mode='constant' ensures outline is included on the array borders'\n",
    "        selem = generate_binary_structure(gmc._ndim, 1)  # edge connectivity'\n",
    "        eroded = grey_erosion(gmc.data, footprint=selem, mode='constant', cval=0.)'\n",
    "        dilated = grey_dilation(gmc.data, footprint=selem, mode='constant', cval=0.)'\n",
    "'\n",
    "        outlines = ((dilated != eroded) & (gmc.data != 0)).astype(int)'\n",
    "        outlines *= gmc.data'\n",
    "'\n",
    "        if mask_background:'\n",
    "            outlines = np.ma.masked_where(outlines != i, outlines)'\n",
    "'\n",
    "        outlines[outlines == i] = 0.8'\n",
    "'\n",
    "        return outlines"
   ],
   "metadata": {
    "collapsed": false,
    "pycharm": {
     "name": "#%%\n"
    }
   }
  },
  {
   "cell_type": "markdown",
   "source": [
    "### Define Cutout Function"
   ],
   "metadata": {
    "collapsed": false,
    "pycharm": {
     "name": "#%%\n"
    }
   }
  },
  {
   "cell_type": "code",
   "execution_count": 180,
   "outputs": [],
   "source": [
    "def cutout_image(segment_list, i, im_dict, filt, gmc, square_crop, save=False, path=None, scale=None, color=True):'\n",
    "    image = im_dict[filt].data'\n",
    "    bbox = segment_list[i].bbox'\n",
    "'\n",
    "    x = int(bbox.center[1]); y = int(bbox.center[0])'\n",
    "    dx = bbox.shape[1]; dy = bbox.shape[0]'\n",
    "'\n",
    "    outlines = outline_segment(gmc, i+1, mask_background=True)'\n",
    "'\n",
    "    if filt == 'RGB':'\n",
    "        filts = [alma.data, im_dict['F2100W'].data, hst_275.data]'\n",
    "'\n",
    "        if square_crop == True:'\n",
    "            if dx > dy:'\n",
    "                slice = np.s_[y-dx:y+dx, x-dx:x+dx]'\n",
    "                alma_greyRGB, hdu2100_greyRGB, hdu275_greyRGB, outline = rgb_cutout_scaling(filts, slice, outlines, scale)'\n",
    "'\n",
    "            else:'\n",
    "                slice = np.s_[y-dy:y+dy, x-dy:x+dy]'\n",
    "                alma_greyRGB, hdu2100_greyRGB, hdu275_greyRGB, outline = rgb_cutout_scaling(filts, slice, outlines, scale)'\n",
    "'\n",
    "        elif square_crop == False:'\n",
    "            slice = bbox.get_overlap_slices(image.shape[1:3])'\n",
    "            alma_greyRGB, hdu2100_greyRGB, hdu275_greyRGB, outline = rgb_cutout_scaling(filts, (slice[0][0], slice[0][1]), outlines, scale)'\n",
    "'\n",
    "        alma_red = mcf.colorize_image(alma_greyRGB,'FF0000', colorintype='hex')'\n",
    "        hdu2100_green = mcf.colorize_image(hdu2100_greyRGB, '#00FF00', colorintype='hex')'\n",
    "        hdu275_blue = mcf.colorize_image(hdu275_greyRGB, '#0000FF', colorintype='hex')'\n",
    "        im_section=mcf.combine_multicolor([alma_red, hdu2100_green, hdu275_blue], gamma=2, inverse=False)'\n",
    "'\n",
    "        if color == False:'\n",
    "            fig, axs = plt.subplots(1, 4, figsize=(15,15))'\n",
    "'\n",
    "            axs[0].set_title('RGB')'\n",
    "            axs[0].imshow(im_section, vmin=pct(im_section, 0), vmax=pct(im_section, 100), origin='lower')'\n",
    "            axs[0].imshow(outline, origin='lower', cmap='Greys')'\n",
    "'\n",
    "            axs[1].set_title('ALMA')'\n",
    "            axs[1].imshow(alma_greyRGB, vmin=pct(alma_greyRGB, 0), vmax=pct(alma_greyRGB, 100), cmap=cm.Greys, origin='lower')'\n",
    "            axs[1].imshow(outline, origin='lower', cmap='autumn')'\n",
    "'\n",
    "            axs[2].set_title('F2100W')'\n",
    "            axs[2].imshow(hdu2100_greyRGB, vmin=pct(hdu2100_greyRGB, 0), vmax=pct(hdu2100_greyRGB, 100), cmap=cm.Greys, origin='lower')'\n",
    "            axs[2].imshow(outline, origin='lower', cmap='summer')'\n",
    "'\n",
    "            axs[3].set_title('HST275')'\n",
    "            axs[3].imshow(hdu275_greyRGB, vmin=pct(hdu275_greyRGB, 0), vmax=pct(hdu275_greyRGB, 100), cmap=cm.Greys, origin='lower')'\n",
    "            axs[3].imshow(outline, origin='lower', cmap='winter')'\n",
    "'\n",
    "            return None'\n",
    "'\n",
    "    elif filt != 'RGB':'\n",
    "        if square_crop == True:'\n",
    "            if dx > dy:'\n",
    "                slice = np.s_[y-dx:y+dx, x-dx:x+dx]'\n",
    "                im_section = image[slice]'\n",
    "                outline = outlines[slice]'\n",
    "'\n",
    "            else:'\n",
    "                slice = np.s_[y-dy:y+dy, x-dy:x+dy]'\n",
    "                im_section = image[slice]'\n",
    "                outline = outlines[slice]'\n",
    "'\n",
    "        elif square_crop == False:'\n",
    "            slice = bbox.get_overlap_slices(image.shape)'\n",
    "            im_section = image[slice[0][0], slice[0][1]]'\n",
    "            outline = outlines[slice[0][0], slice[0][1]]'\n",
    "'\n",
    "    plt.figure()'\n",
    "    plt.imshow(im_section, vmin=pct(im_section, 0), vmax=pct(im_section, 100), origin='lower')'\n",
    "    plt.imshow(outline, origin='lower', interpolation='nearest', vmin=0, vmax=0, cmap='Greys')'\n",
    "'\n",
    "    if save == True:'\n",
    "        plt.savefig(path)"
   ],
   "metadata": {
    "collapsed": false,
    "pycharm": {
     "name": "#%%\n"
    }
   }
  },
  {
   "cell_type": "code",
   "execution_count": 190,
   "outputs": [],
   "source": [
    "def rgb_cutout_scaling(filts, slice, outlines, scale):'\n",
    "    red = filts[0][slice]; green = filts[1][slice]; blue = filts[2][slice]'\n",
    "'\n",
    "    red = mcf.greyRGBize_image(red,rescalefn=scale,scaletype='abs',min_max=[pct(red, 0), pct(red, 100)])'\n",
    "    green = mcf.greyRGBize_image(green,rescalefn=scale,scaletype='abs',min_max=[pct(green, 5),pct(green, 95)])'\n",
    "    blue = mcf.greyRGBize_image(blue,rescalefn=scale,scaletype='abs',min_max=[pct(blue, 5),pct(blue, 95)])'\n",
    "    outline = outlines[slice]'\n",
    "'\n",
    "    return red, green, blue, outline"
   ],
   "metadata": {
    "collapsed": false,
    "pycharm": {
     "name": "#%%\n"
    }
   }
  },
  {
   "cell_type": "code",
   "execution_count": 7,
   "outputs": [],
   "source": [
    "i = 630'\n",
    "cutout_image(segment_list,i,im_dict, 'F770W', gmc, 1)'\n",
   ],
   "metadata": {
    "collapsed": false,
    "pycharm": {
     "name": "#%%\n"
    }
   }
  },
  {
   "cell_type": "markdown",
   "source": [
    "# Multicolor Fits"
   ],
   "metadata": {
    "collapsed": false,
    "pycharm": {
     "name": "#%%\n"
    }
   }
  },
  {
   "cell_type": "code",
   "execution_count": 8,
   "outputs": [],
   "source": [
    "#mcf.mcf_gui()"
   ],
   "metadata": {
    "collapsed": false,
    "pycharm": {
     "name": "#%%\n"
    }
   }
  },
  {
   "cell_type": "code",
   "execution_count": 9,
   "outputs": [],
   "source": [
    "dir = '/Users/ryanlessing/Library/CloudStorage/OneDrive-JohnsHopkins/PHANGS/GMC-Photometry/Convolved_Reprojected_to_F2100W/HST+ALMA Regrid Attempt/''\n",
    "hst_275 = fits.open(dir + 'hst275.fits')[0]'\n",
    "alma = fits.open(dir + 'alma.fits')[0]'\n",
    "'\n",
    "hdu275_data = hst_275.data'\n",
    "hdu275_data[hdu275_data == 0] = np.nan'\n",
    "'\n",
    "hdu2100_data = im_dict['F2100W'].data'\n",
    "hdu2100_data[hdu2100_data == 0] = np.nan'\n",
    "'\n",
    "alma_data = alma.data'\n",
    "alma_data[alma_data == 0] = np.nan"
   ],
   "metadata": {
    "collapsed": false,
    "pycharm": {
     "name": "#%%\n"
    }
   }
  },
  {
   "cell_type": "code",
   "execution_count": 10,
   "outputs": [
    {
     "data": {
      "text/plain": "<matplotlib.image.AxesImage at 0x7fcfcbe2bd10>"
     },
     "execution_count": 10,
     "metadata": {},
     "output_type": "execute_result"
    }
   ],
   "source": [
    "'\n",
    "#scale each floating point image to greyscale with an intensity transformation'\n",
    "#scaling here obviously impacts overall impression (importance of band in end result) and color-balance too'\n",
    "'\n",
    "#hdu1130_greyRGB=mcf.greyRGBize_image(im_dict['F1130W'].data,rescalefn='asinh',scaletype='abs',min_max=[-0.15,50.*mult]);#18'\n",
    "#hdu1000_greyRGB=mcf.greyRGBize_image(im_dict['F1000W'].data,rescalefn='asinh',scaletype='abs',min_max=[-0.15,13.*mult]);#13'\n",
    "#hdu770_greyRGB=mcf.greyRGBize_image(im_dict['F770W'].data,rescalefn='asinh',scaletype='abs',min_max=[-0.15,40.*mult]);#10'\n",
    "'\n",
    "'\n",
    "hdu2100_greyRGB=mcf.greyRGBize_image(im_dict['F2100W'].data,rescalefn='asinh',scaletype='abs',min_max=[pct(hdu2100_data, 30), pct(hdu2100_data, 90)]);'\n",
    "hdu275_greyRGB=mcf.greyRGBize_image(hst_275.data,rescalefn='asinh',scaletype='abs',min_max=[pct(hdu275_data, 30),pct(hdu275_data, 90)]);'\n",
    "alma_greyRGB=mcf.greyRGBize_image(alma.data,rescalefn='asinh',scaletype='abs',min_max=[pct(alma_data, 80), pct(alma_data, 85)]);'\n",
    "'\n",
    "#colorize the greyscales, assigning a hue to each band'\n",
    "#I've heard that sometimes assigning two hues to a single band helps make that band 'pop' but I haven't tried this.'\n",
    "#maybe contact Liz Watkins and Ash Barnes about their intensity scaling and color choices for their papers'\n",
    "#hdu2100_red=mcf.colorize_image(hdu2100_greyRGB, '#FF0000', colorintype='hex')'\n",
    "#hdu2100_green=mcf.colorize_image(hdu2100_greyRGB, '#00FF00', colorintype='hex')'\n",
    "#hdu1000_cyan=mcf.colorize_image(hdu1000_greyRGB, '#0000FF', colorintype='hex')'\n",
    "#hdu770_blue=mcf.colorize_image(hdu770_greyRGB, '#0000FF', colorintype='hex')'\n",
    "#hdu275_cyan = mcf.colorize_image(hdu275_greyRGB, '#00FFFF', colorintype='hex')'\n",
    "'\n",
    "alma_red = mcf.colorize_image(alma_greyRGB,'FF0000', colorintype='hex')'\n",
    "hdu2100_green=mcf.colorize_image(hdu2100_greyRGB, '#00FF00', colorintype='hex')'\n",
    "hdu275_blue = mcf.colorize_image(hdu275_greyRGB, '#0000FF', colorintype='hex')'\n",
    "'\n",
    "image_RGB=mcf.combine_multicolor([alma_red, hdu2100_green, hdu275_blue], gamma=2, inverse=False)'\n",
    "'\n",
    "plt.imshow(image_RGB)"
   ],
   "metadata": {
    "collapsed": false,
    "pycharm": {
     "name": "#%%\\n"
    }
   }
  },
  {
   "cell_type": "code",
   "execution_count": 11,
   "outputs": [],
   "source": [
    "path = '/Users/ryanlessing/Library/CloudStorage/OneDrive-JohnsHopkins/PHANGS/GMC-Photometry/NGC628/RGB.fits''\n",
    "hdr = hst_275.header'\n",
    "mcf.saveRGBfits(path, image_RGB, hdr, overwrite=True)'\n",
    "im_dict['RGB'] = fits.open(path)[0].data"
   ],
   "metadata": {
    "collapsed": false,
    "pycharm": {
     "name": "#%%\n"
    }
   }
  },
  {
   "cell_type": "code",
   "execution_count": 12,
   "outputs": [],
   "source": [
    "path_wide = '/Users/ryanlessing/Library/CloudStorage/OneDrive-JohnsHopkins/PHANGS/GMC-Photometry/NGC628/Segments_RGB_Wide/''\n",
    "path_narrow = '/Users/ryanlessing/Library/CloudStorage/OneDrive-JohnsHopkins/PHANGS/GMC-Photometry/NGC628/Segments_RGB_Narrow/''\n",
    "'\n",
    "flux_table = pd.read_csv('/Users/ryanlessing/Library/CloudStorage/OneDrive-JohnsHopkins/PHANGS/GMC-Photometry/NGC628/fluxtable.csv')'\n",
    "'\n",
    "# for i in range(len(segment_list)):'\n",
    "#     fn = 'Segment_'+str(i)+'.jpg''\n",
    "#     cutout_image(segment_list,i,im_dict, 'RGB', gmc, square_crop=1, rgb=True)'\n",
    "#     cutout_image(segment_list,i,im_dict, 'RGB', gmc, square_crop=0, rgb=True)"
   ],
   "metadata": {
    "collapsed": false,
    "pycharm": {
     "name": "#%%\n"
    }
   }
  },
 ],
 "metadata": {
  "kernelspec": {
   "name": "conda-env-astroconda-py",
   "language": "python",
   "display_name": "Python [conda env:astroconda]"
  },
  "language_info": {
   "codemirror_mode": {
    "name": "ipython",
    "version": 2
   },
   "file_extension": ".py",
   "mimetype": "text/x-python",
   "name": "python",
   "nbconvert_exporter": "python",
   "pygments_lexer": "ipython2",
   "version": "2.7.6"
  }
 },
 "nbformat": 4,
 "nbformat_minor": 0
}